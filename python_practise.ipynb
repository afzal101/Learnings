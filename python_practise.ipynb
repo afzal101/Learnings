{
  "cells": [
    {
      "cell_type": "markdown",
      "metadata": {
        "id": "view-in-github",
        "colab_type": "text"
      },
      "source": [
        "<a href=\"https://colab.research.google.com/github/afzal101/Learnings/blob/main/python_practise.ipynb\" target=\"_parent\"><img src=\"https://colab.research.google.com/assets/colab-badge.svg\" alt=\"Open In Colab\"/></a>"
      ]
    },
    {
      "cell_type": "code",
      "execution_count": null,
      "id": "a356b604-ee18-4627-8e12-3ab539d85a72",
      "metadata": {
        "id": "a356b604-ee18-4627-8e12-3ab539d85a72"
      },
      "outputs": [],
      "source": [
        "#!pip install pandas\n",
        "import pandas as pd\n",
        "#GHNA0602109234b\n",
        "import numpy as np"
      ]
    },
    {
      "cell_type": "code",
      "source": [
        "print('hello world')"
      ],
      "metadata": {
        "id": "72B6-WgBz4rO",
        "outputId": "505f8248-cac8-4caa-c7b8-357a0f3c3a82",
        "colab": {
          "base_uri": "https://localhost:8080/"
        }
      },
      "id": "72B6-WgBz4rO",
      "execution_count": 1,
      "outputs": [
        {
          "output_type": "stream",
          "name": "stdout",
          "text": [
            "hello world\n"
          ]
        }
      ]
    },
    {
      "cell_type": "markdown",
      "id": "0be5e368-a4e0-49b4-a262-95e067337868",
      "metadata": {
        "id": "0be5e368-a4e0-49b4-a262-95e067337868"
      },
      "source": [
        "## Tiger"
      ]
    },
    {
      "cell_type": "code",
      "execution_count": null,
      "id": "36150cf6-44bd-411d-81d9-b9bab25577fd",
      "metadata": {
        "id": "36150cf6-44bd-411d-81d9-b9bab25577fd"
      },
      "outputs": [],
      "source": [
        "# Define the dictionary with the data\n",
        "data = {\n",
        "    \"Product\": [\"Product A\", \"Product B\", \"Product C\", \"Product D\"],\n",
        "    \"Q1_Sales\": [150, 200, 300, 250],\n",
        "    \"Q2_Sales\": [180, 220, 310, 270],\n",
        "    \"Q3_Sales\": [210, 250, 330, 290],\n",
        "    \"Q4_Sales\": [240, 280, 350, 310]\n",
        "}\n",
        "\n",
        "# Create a DataFrame from the dictionary\n",
        "df = pd.DataFrame(data)\n",
        "\n",
        "unp_df = df.melt(id_vars='Product', value_vars=['Q1_Sales', 'Q2_Sales', 'Q3_Sales', 'Q4_Sales'])\n",
        "unp_df\n",
        "\n",
        "new_df= unp_df.groupby(['Product', 'variable'])['value'].sum().reset_index()\n"
      ]
    },
    {
      "cell_type": "code",
      "execution_count": null,
      "id": "481f3690-6ecb-49c0-8f7d-5f976eacfc0b",
      "metadata": {
        "id": "481f3690-6ecb-49c0-8f7d-5f976eacfc0b"
      },
      "outputs": [],
      "source": [
        "quarter_sales=df.iloc[:,1:].sum()\n",
        "max_quarter= quarter_sales.idxmax()\n",
        "max_sales=quarter_sales.max()\n",
        "max_quarter\n",
        "print(quarter_sales)\n",
        "print(max_quarter)\n",
        "print(max_sales)\n",
        "\n",
        "q_sales = new_df.groupby('variable')['value'].sum().reset_index()\n",
        "#display(q_sales)##\n",
        "q_sales.loc[q_sales['value'].idxmax(), 'variable']\n",
        "\n",
        "p_df = new_df.groupby('Product')['value'].sum().reset_index()\n",
        "p_df.loc[3,'Product']"
      ]
    },
    {
      "cell_type": "code",
      "execution_count": null,
      "id": "a44b3ae5-de70-4e14-83c2-09d2d0ca30a2",
      "metadata": {
        "id": "a44b3ae5-de70-4e14-83c2-09d2d0ca30a2"
      },
      "outputs": [],
      "source": [
        "data = {\n",
        "    \"Name\": [\"John\", \"Sarah\", \"Mike\", \"Lisa\", \"Tom\"],\n",
        "    \"Age\": [28, 32, 40, 25, 35],\n",
        "    \"Income\": [50000, 65000, 80000, 45000, 70000]\n",
        "}\n",
        "\n",
        "df = pd.DataFrame(data)\n"
      ]
    },
    {
      "cell_type": "code",
      "execution_count": null,
      "id": "1f8bd017-a6e7-4e51-afd2-91f9ade9ddd4",
      "metadata": {
        "id": "1f8bd017-a6e7-4e51-afd2-91f9ade9ddd4"
      },
      "outputs": [],
      "source": [
        "df['Rule'] = np.where(df['Income']<=50000, 'Less',\n",
        "                      np.where((df['Income']>50000) & (df['Income']<=70000), 'Medium','High'))"
      ]
    },
    {
      "cell_type": "code",
      "execution_count": null,
      "id": "4790eae0-97fc-4921-924c-546b41c59322",
      "metadata": {
        "id": "4790eae0-97fc-4921-924c-546b41c59322"
      },
      "outputs": [],
      "source": [
        "#df.drop(columns =['Ruchckle'])\n",
        "df.columns = df.columns.str.lower()"
      ]
    },
    {
      "cell_type": "code",
      "execution_count": null,
      "id": "85d3248a-0728-4555-a0fc-a2381d450dae",
      "metadata": {
        "id": "85d3248a-0728-4555-a0fc-a2381d450dae",
        "outputId": "898ceedf-8eda-44b4-8118-98af8e1cb519"
      },
      "outputs": [
        {
          "name": "stdout",
          "output_type": "stream",
          "text": [
            "['You', 'can', 'reach', 'out', 'to', 'John', 'at', 'john.doe@example.com,', 'Sarah', 'at', 'sarah123@email.com,', 'or', 'Mike', 'at', 'mike.work@company.org', 'for', 'further', 'details.']\n"
          ]
        },
        {
          "data": {
            "text/plain": [
              "['john.doe@example.com,', 'sarah123@email.com,', 'mike.work@company.org']"
            ]
          },
          "execution_count": 43,
          "metadata": {},
          "output_type": "execute_result"
        }
      ],
      "source": [
        "str1= \"You can reach out to John at john.doe@example.com, Sarah at sarah123@email.com, or Mike at mike.work@company.org for further details.\"\n",
        "l1 =[]\n",
        "l2 =[]\n",
        "\n",
        "l1 = str1.split()\n",
        "print(l1)\n",
        "for i in range(0, len(l1)):\n",
        "    if '@' in l1[i]:\n",
        "        l2.append(l1[i])\n",
        "l2"
      ]
    },
    {
      "cell_type": "code",
      "execution_count": null,
      "id": "498a39b7-5750-4abb-8c63-068a996e5887",
      "metadata": {
        "id": "498a39b7-5750-4abb-8c63-068a996e5887",
        "outputId": "4731df81-8b7c-4c15-8f79-3dcfb2107968"
      },
      "outputs": [
        {
          "data": {
            "text/plain": [
              "'Word Hello'"
            ]
          },
          "execution_count": 56,
          "metadata": {},
          "output_type": "execute_result"
        }
      ],
      "source": [
        "my_t = (1,2,3,4)\n",
        "new_t = (5,'afz')\n",
        "my_t = my_t+new_t\n",
        "my_t\n",
        "\n",
        "key = {1,2,3,'afz'}\n",
        "key\n",
        "\n",
        "str1 = 'Hello Word'\n",
        "l1 =[]\n",
        "l1 = str1.split()\n",
        "l1 = l1[::-1]\n",
        "b = ' '.join(l1)\n",
        "b\n"
      ]
    },
    {
      "cell_type": "raw",
      "id": "644a8ad7-317d-4c69-8987-aa93d5cd6955",
      "metadata": {
        "id": "644a8ad7-317d-4c69-8987-aa93d5cd6955"
      },
      "source": [
        "genrators /decorators/ iterator\n",
        "list compression within a function\n",
        "leet code\n",
        "fibonacci\n",
        "palindrome"
      ]
    },
    {
      "cell_type": "code",
      "execution_count": null,
      "id": "bc888e28-c0a0-41b5-88b4-e6436fbafea1",
      "metadata": {
        "id": "bc888e28-c0a0-41b5-88b4-e6436fbafea1",
        "outputId": "cd111d5c-1316-48e9-c714-4450af2c3cf2"
      },
      "outputs": [
        {
          "name": "stdout",
          "output_type": "stream",
          "text": [
            "[1, 2, 3, 4, 5, 6, 7]\n"
          ]
        }
      ],
      "source": [
        "#write a function that takes a list and a new list with duplicated removed while preserving the original order\n",
        "\n",
        "def remove_duplicates(lst):\n",
        "    seen = []\n",
        "    unique_list = []\n",
        "\n",
        "    for item in lst:\n",
        "        if item not in seen:\n",
        "            unique_list.append(item)\n",
        "            seen.append(item)\n",
        "\n",
        "    return unique_list\n",
        "original_list = ([1, 2, 3, 2, 4, 1, 5, 6, 3, 7])\n",
        "new_list = remove_duplicates(original_list)\n",
        "\n",
        "print(new_list)\n",
        "original_list = ([1, 2, 3, 2, 4, 1, 5, ])\n"
      ]
    },
    {
      "cell_type": "code",
      "execution_count": null,
      "id": "ce7a0c9e-13b2-4f4b-9d72-f62c3ce81cc0",
      "metadata": {
        "id": "ce7a0c9e-13b2-4f4b-9d72-f62c3ce81cc0",
        "outputId": "0ec8eb43-9c14-47c0-c96f-3fab37d33a70"
      },
      "outputs": [
        {
          "name": "stdout",
          "output_type": "stream",
          "text": [
            "{'afzal': 5, 'mohammed': 8}\n"
          ]
        },
        {
          "data": {
            "text/plain": [
              "{'afzal': 5, 'mohammed': 8}"
            ]
          },
          "execution_count": 273,
          "metadata": {},
          "output_type": "execute_result"
        }
      ],
      "source": [
        "a =  \"afzal mohammed\"\n",
        "l1 = a.split()\n",
        "l2=[]\n",
        "for i in l1:\n",
        "    b = len(i)\n",
        "    l2.append(b)\n",
        "l2\n",
        "dic = dict(zip(l1, l2))\n",
        "print(dic)\n",
        "my_d= {}\n",
        "for i in range(len(l2)):\n",
        "    my_d[l1[i]]=l2[i]\n",
        "my_d"
      ]
    },
    {
      "cell_type": "code",
      "execution_count": null,
      "id": "9a87901b-5280-4c2d-8a69-469877dbf4f0",
      "metadata": {
        "id": "9a87901b-5280-4c2d-8a69-469877dbf4f0",
        "outputId": "62a74a30-a28d-4b43-c885-0c080a9d5d88"
      },
      "outputs": [
        {
          "name": "stdout",
          "output_type": "stream",
          "text": [
            "1\n",
            "2\n",
            "3\n"
          ]
        }
      ],
      "source": [
        "def number_generator():\n",
        "    for i in range(1, 6):\n",
        "        yield i  # Returns one number at a time\n",
        "\n",
        "gen = number_generator()\n",
        "\n",
        "print(next(gen))  # Output: 1\n",
        "print(next(gen))\n",
        "print(next(gen))\n"
      ]
    },
    {
      "cell_type": "code",
      "execution_count": null,
      "id": "ba24e895-93bd-43d9-acfc-1538ebb5529e",
      "metadata": {
        "id": "ba24e895-93bd-43d9-acfc-1538ebb5529e",
        "outputId": "4b5e98fd-a944-46b2-f23d-d3996570ba1d"
      },
      "outputs": [
        {
          "data": {
            "text/plain": [
              "5"
            ]
          },
          "execution_count": 123,
          "metadata": {},
          "output_type": "execute_result"
        }
      ],
      "source": [
        "l= [2,5,4,5,1,6,6]\n",
        "l.sort(reverse= True)\n",
        "l[1]\n",
        "# max_first = l[0]\n",
        "# for i in l:\n",
        "#     if i>max_first:\n",
        "#         max_first =i\n",
        "# max_first\n",
        "# second_max= None\n",
        "# for i in l:\n",
        "#     if i != max_first:\n",
        "#         if second_max is None or  i>second_max:\n",
        "#             second_max=i\n",
        "# second_max\n",
        "first_max= l[0]\n",
        "for i in l:\n",
        "    if i >first_max:\n",
        "        first_max = i\n",
        "second_max = None\n",
        "for i in l:\n",
        "    if i!=first_max:\n",
        "        if second_max is None or i>second_max:\n",
        "            second_max= i\n",
        "second_max"
      ]
    },
    {
      "cell_type": "code",
      "execution_count": null,
      "id": "cfdb534d-97c4-459c-8d31-cf74ca2a4694",
      "metadata": {
        "id": "cfdb534d-97c4-459c-8d31-cf74ca2a4694",
        "outputId": "87714c5f-4987-4284-88ff-11f0b39af238"
      },
      "outputs": [
        {
          "name": "stdout",
          "output_type": "stream",
          "text": [
            "{'a': 2, 'b': 2, 'c': 2}\n",
            "{'b': 2, 'a': 2, 'c': 2}\n",
            "True\n",
            "False\n"
          ]
        }
      ],
      "source": [
        "def are_strings_matching_loop(s1, s2):\n",
        "    if len(s1) != len(s2):  # If lengths are different, they can't match\n",
        "        return False\n",
        "\n",
        "    char_count1 = {}  # Dictionary to store frequency of s1\n",
        "    char_count2 = {}  # Dictionary to store frequency of s2\n",
        "\n",
        "    for char in s1:\n",
        "        char_count1[char] = char_count1.get(char, 0) + 1\n",
        "\n",
        "    # Count character frequencies for s2\n",
        "    for char in s2:\n",
        "        char_count2[char] = char_count2.get(char, 0) + 1\n",
        "\n",
        "    return char_count1 == char_count2\n",
        "\n",
        "# Example\n",
        "s1 = \"aabbcc\"\n",
        "s2 = \"baccab\"\n",
        "print(are_strings_matching_loop(s1, s2))  # Output: True\n",
        "\n",
        "s3 = \"abc\"\n",
        "s4 = \"abcd\"\n",
        "print(are_strings_matching_loop(s3, s4))  # Output: False\n"
      ]
    },
    {
      "cell_type": "code",
      "execution_count": null,
      "id": "7f4190b8-44af-4835-bb7f-dcb74c2a8ea2",
      "metadata": {
        "id": "7f4190b8-44af-4835-bb7f-dcb74c2a8ea2",
        "outputId": "ac212be1-7920-43f5-b916-d235fb01a31e"
      },
      "outputs": [
        {
          "name": "stdout",
          "output_type": "stream",
          "text": [
            "True\n"
          ]
        }
      ],
      "source": [
        "a ='afza'\n",
        "b ='afza'\n",
        "\n",
        "if len(a)==len(b):\n",
        "    char1={}\n",
        "    char2={}\n",
        "    for i in a:\n",
        "        char1[i]= char1.get(i,0)+1\n",
        "    for j in b:\n",
        "        char2[j] = char2.get(j,0)+1\n",
        "\n",
        "print( char1==char2)"
      ]
    },
    {
      "cell_type": "code",
      "execution_count": null,
      "id": "ccc77839-4491-476c-aab8-f51b0da8e585",
      "metadata": {
        "id": "ccc77839-4491-476c-aab8-f51b0da8e585",
        "outputId": "c53a420e-f070-488f-e160-eb28e3a379d3"
      },
      "outputs": [
        {
          "name": "stdout",
          "output_type": "stream",
          "text": [
            "True\n"
          ]
        }
      ],
      "source": [
        "b='samee'\n",
        "c = 'eeams'\n",
        "if len(b)== len(c):\n",
        "    char1={}\n",
        "    char2={}\n",
        "    for i in b:\n",
        "        char1[i]=char1.get(i,0)+1\n",
        "    for j in c:\n",
        "        char2[j]=char2.get(j,0)+1\n",
        "print(char1==char2)\n"
      ]
    },
    {
      "cell_type": "code",
      "execution_count": null,
      "id": "4e9f7a1d-45f9-44df-94f6-2d4704e8bae1",
      "metadata": {
        "id": "4e9f7a1d-45f9-44df-94f6-2d4704e8bae1",
        "outputId": "e739fb19-0d81-491f-f811-8aed77b46c7a"
      },
      "outputs": [
        {
          "data": {
            "text/html": [
              "<div>\n",
              "<style scoped>\n",
              "    .dataframe tbody tr th:only-of-type {\n",
              "        vertical-align: middle;\n",
              "    }\n",
              "\n",
              "    .dataframe tbody tr th {\n",
              "        vertical-align: top;\n",
              "    }\n",
              "\n",
              "    .dataframe thead th {\n",
              "        text-align: right;\n",
              "    }\n",
              "</style>\n",
              "<table border=\"1\" class=\"dataframe\">\n",
              "  <thead>\n",
              "    <tr style=\"text-align: right;\">\n",
              "      <th></th>\n",
              "      <th>values</th>\n",
              "      <th>rolling_mean</th>\n",
              "    </tr>\n",
              "  </thead>\n",
              "  <tbody>\n",
              "    <tr>\n",
              "      <th>0</th>\n",
              "      <td>10</td>\n",
              "      <td>NaN</td>\n",
              "    </tr>\n",
              "    <tr>\n",
              "      <th>1</th>\n",
              "      <td>20</td>\n",
              "      <td>15.0</td>\n",
              "    </tr>\n",
              "    <tr>\n",
              "      <th>2</th>\n",
              "      <td>30</td>\n",
              "      <td>25.0</td>\n",
              "    </tr>\n",
              "    <tr>\n",
              "      <th>3</th>\n",
              "      <td>40</td>\n",
              "      <td>35.0</td>\n",
              "    </tr>\n",
              "    <tr>\n",
              "      <th>4</th>\n",
              "      <td>50</td>\n",
              "      <td>45.0</td>\n",
              "    </tr>\n",
              "    <tr>\n",
              "      <th>5</th>\n",
              "      <td>60</td>\n",
              "      <td>55.0</td>\n",
              "    </tr>\n",
              "    <tr>\n",
              "      <th>6</th>\n",
              "      <td>70</td>\n",
              "      <td>65.0</td>\n",
              "    </tr>\n",
              "    <tr>\n",
              "      <th>7</th>\n",
              "      <td>80</td>\n",
              "      <td>75.0</td>\n",
              "    </tr>\n",
              "  </tbody>\n",
              "</table>\n",
              "</div>"
            ],
            "text/plain": [
              "   values  rolling_mean\n",
              "0      10           NaN\n",
              "1      20          15.0\n",
              "2      30          25.0\n",
              "3      40          35.0\n",
              "4      50          45.0\n",
              "5      60          55.0\n",
              "6      70          65.0\n",
              "7      80          75.0"
            ]
          },
          "execution_count": 153,
          "metadata": {},
          "output_type": "execute_result"
        }
      ],
      "source": [
        "data = {'values': [10, 20, 30, 40, 50, 60, 70, 80]}\n",
        "df = pd.DataFrame(data)\n",
        "df['rolling_mean'] = df['values'].rolling(window=2).mean()\n",
        "df"
      ]
    },
    {
      "cell_type": "code",
      "execution_count": null,
      "id": "98e67c0f-0a48-40b9-bcb2-8d892f91c759",
      "metadata": {
        "id": "98e67c0f-0a48-40b9-bcb2-8d892f91c759",
        "outputId": "44142356-68e3-4f26-f012-d35eaf9db5aa"
      },
      "outputs": [
        {
          "name": "stdout",
          "output_type": "stream",
          "text": [
            "   ID     Name   Age  is_duplicated  is_duplicate\n",
            "0   1    Alice  25.0          False          True\n",
            "1   2      Bob  30.0          False         False\n",
            "2   3  Charlie  35.0          False         False\n",
            "3   4    Alice  25.0           True          True\n",
            "4   5     None  25.0          False         False\n",
            "5   6    Alice   NaN          False          True\n",
            "6   7    Alice   NaN           True          True\n"
          ]
        }
      ],
      "source": [
        "import pandas as pd\n",
        "\n",
        "# def detect_duplicates(df, subset=None):\n",
        "#     df[\"is_duplicate\"] = df.duplicated(subset=subset, keep=False)  # Mark all duplicates\n",
        "#     return df\n",
        "def detect_dupl(df, subset):\n",
        "    df['is_duplicated'] =df.duplicated(subset)\n",
        "    return df\n",
        "# Example Data\n",
        "data = {\n",
        "    'ID': [1, 2, 3, 4, 5, 6,7],\n",
        "    'Name': ['Alice', 'Bob', 'Charlie', 'Alice', None, 'Alice', 'Alice'],\n",
        "    'Age': [25, 30, 35, 25, 25, None, None]\n",
        "}\n",
        "\n",
        "df = pd.DataFrame(data)\n",
        "result = detect_dupl(df, subset=['Name', 'Age'])\n",
        "result = detect_duplicates(df, subset=['Name', 'Age'])\n",
        "print(result)\n",
        "\n"
      ]
    },
    {
      "cell_type": "code",
      "execution_count": null,
      "id": "46b1a6b9-0c03-4927-aaf8-dd3010b906df",
      "metadata": {
        "id": "46b1a6b9-0c03-4927-aaf8-dd3010b906df"
      },
      "outputs": [],
      "source": [
        "import numpy as np\n",
        "q1 = np.percentile(df['amoun'], 0.25)\n",
        "q2= np.percentile(df['amount'], 0.75)\n",
        "iqr = q3-q1\n",
        "lower_bound = q1-irq*1.5\n",
        "upper_bound = q3+1.5*iqr\n",
        "df['outliers']= [(df['amount']<lower_bound) | (df['amoun']>upper_bound)]"
      ]
    },
    {
      "cell_type": "code",
      "execution_count": null,
      "id": "0e34d54a-9ec3-40a4-ab97-b3b2253209c1",
      "metadata": {
        "id": "0e34d54a-9ec3-40a4-ab97-b3b2253209c1",
        "outputId": "1626baac-0dc5-44cc-c80d-c3e8277db197"
      },
      "outputs": [
        {
          "name": "stdout",
          "output_type": "stream",
          "text": [
            "AFzal\n"
          ]
        }
      ],
      "source": [
        "def longest_string(str1):\n",
        "    b = str1.split()\n",
        "    long= b[0]\n",
        "    for i in b:\n",
        "        if len(i)>len(long):\n",
        "            long =i\n",
        "    second_long = None\n",
        "    for j in b:\n",
        "        if second_long== None or len(j)>len(long):\n",
        "            second_long=j\n",
        "    return second_long\n",
        "    return long\n",
        "\n",
        "str1 = 'AFzal mohammed   in love with sameera'\n",
        "print(longest_string(str1))\n"
      ]
    },
    {
      "cell_type": "code",
      "execution_count": null,
      "id": "79144f6e-d5c1-4171-8b48-2910d9152a3d",
      "metadata": {
        "id": "79144f6e-d5c1-4171-8b48-2910d9152a3d"
      },
      "outputs": [],
      "source": [
        "\n",
        "data = {\n",
        "    \"brand\": [\"A\", \"B\", \"C\", \"D\", \"E\", \"A\", \"B\", \"C\", \"D\", \"E\"],\n",
        "    \"year\": [2023, 2023, 2023, 2023, 2023, 2024, 2024, 2024, 2024, 2024],\n",
        "    \"week\": [1, 2, 3, 4, 5, 6, 7, 8, 9, 10],\n",
        "    \"sales_unit\": [500, 600, 700, 20000, 800, 900, 1000, 1200, 150, 200],  # Outlier at 20000\n",
        "    \"avg_price\": [10, 12, 11, 9, 50, 10, 11, 12, 1000, 9],  # Outlier at 1000\n",
        "    \"digital\": [2000, 2500, np.nan, 3000, 3500, 4000, 4500, np.nan, 5000, 5500],  # Null values\n",
        "    \"media\": [500, 700, 600, 800, np.nan, 900, 1000, 1100, 1200, 1300],  # Null value\n",
        "    \"ooh\": [100, 200, 300, 400, 500, 600, np.nan, 800, 900, 1000],  # Null value\n",
        "    \"TV\": [5000, 6000, 7000, 8000, 9000, 10000, np.nan, 12000, 13000, 14000],  # Null value\n",
        "    \"print\": [50, 60, 70, 80, 90, 100, 110, 120, np.nan, 140],  # Null value\n",
        "}\n",
        "\n",
        "# Create DataFrame\n",
        "df = pd.DataFrame(data)\n",
        "\n"
      ]
    },
    {
      "cell_type": "code",
      "execution_count": null,
      "id": "d441679f-4b6b-48db-b26d-637fe5316de4",
      "metadata": {
        "id": "d441679f-4b6b-48db-b26d-637fe5316de4",
        "outputId": "67ee2f73-ec1f-45fa-a580-bc8297b8c534"
      },
      "outputs": [
        {
          "data": {
            "text/html": [
              "<div>\n",
              "<style scoped>\n",
              "    .dataframe tbody tr th:only-of-type {\n",
              "        vertical-align: middle;\n",
              "    }\n",
              "\n",
              "    .dataframe tbody tr th {\n",
              "        vertical-align: top;\n",
              "    }\n",
              "\n",
              "    .dataframe thead th {\n",
              "        text-align: right;\n",
              "    }\n",
              "</style>\n",
              "<table border=\"1\" class=\"dataframe\">\n",
              "  <thead>\n",
              "    <tr style=\"text-align: right;\">\n",
              "      <th></th>\n",
              "      <th>brand</th>\n",
              "      <th>year</th>\n",
              "      <th>sales_unit</th>\n",
              "    </tr>\n",
              "  </thead>\n",
              "  <tbody>\n",
              "    <tr>\n",
              "      <th>0</th>\n",
              "      <td>A</td>\n",
              "      <td>2023</td>\n",
              "      <td>500</td>\n",
              "    </tr>\n",
              "    <tr>\n",
              "      <th>2</th>\n",
              "      <td>B</td>\n",
              "      <td>2023</td>\n",
              "      <td>600</td>\n",
              "    </tr>\n",
              "    <tr>\n",
              "      <th>4</th>\n",
              "      <td>C</td>\n",
              "      <td>2023</td>\n",
              "      <td>700</td>\n",
              "    </tr>\n",
              "    <tr>\n",
              "      <th>6</th>\n",
              "      <td>D</td>\n",
              "      <td>2023</td>\n",
              "      <td>20000</td>\n",
              "    </tr>\n",
              "    <tr>\n",
              "      <th>8</th>\n",
              "      <td>E</td>\n",
              "      <td>2023</td>\n",
              "      <td>800</td>\n",
              "    </tr>\n",
              "  </tbody>\n",
              "</table>\n",
              "</div>"
            ],
            "text/plain": [
              "  brand  year  sales_unit\n",
              "0     A  2023         500\n",
              "2     B  2023         600\n",
              "4     C  2023         700\n",
              "6     D  2023       20000\n",
              "8     E  2023         800"
            ]
          },
          "execution_count": 217,
          "metadata": {},
          "output_type": "execute_result"
        }
      ],
      "source": [
        "df1= df.groupby(['brand','year'])['sales_unit'].sum().reset_index()\n",
        "df1[(df1['year']== 2022) | (df1['year']== 2023)]"
      ]
    },
    {
      "cell_type": "code",
      "execution_count": null,
      "id": "7fc4a9ea-73ae-4216-995c-90eb1c307df5",
      "metadata": {
        "id": "7fc4a9ea-73ae-4216-995c-90eb1c307df5",
        "outputId": "6730b8ed-8b42-4d77-9b29-1bd110fb560b"
      },
      "outputs": [
        {
          "data": {
            "text/html": [
              "<div>\n",
              "<style scoped>\n",
              "    .dataframe tbody tr th:only-of-type {\n",
              "        vertical-align: middle;\n",
              "    }\n",
              "\n",
              "    .dataframe tbody tr th {\n",
              "        vertical-align: top;\n",
              "    }\n",
              "\n",
              "    .dataframe thead th {\n",
              "        text-align: right;\n",
              "    }\n",
              "</style>\n",
              "<table border=\"1\" class=\"dataframe\">\n",
              "  <thead>\n",
              "    <tr style=\"text-align: right;\">\n",
              "      <th></th>\n",
              "      <th>brand</th>\n",
              "      <th>year</th>\n",
              "      <th>sales_unit</th>\n",
              "      <th>prev_sales</th>\n",
              "    </tr>\n",
              "  </thead>\n",
              "  <tbody>\n",
              "    <tr>\n",
              "      <th>0</th>\n",
              "      <td>A</td>\n",
              "      <td>2023</td>\n",
              "      <td>500</td>\n",
              "      <td>NaN</td>\n",
              "    </tr>\n",
              "    <tr>\n",
              "      <th>1</th>\n",
              "      <td>A</td>\n",
              "      <td>2024</td>\n",
              "      <td>900</td>\n",
              "      <td>500.0</td>\n",
              "    </tr>\n",
              "    <tr>\n",
              "      <th>2</th>\n",
              "      <td>B</td>\n",
              "      <td>2023</td>\n",
              "      <td>600</td>\n",
              "      <td>NaN</td>\n",
              "    </tr>\n",
              "    <tr>\n",
              "      <th>3</th>\n",
              "      <td>B</td>\n",
              "      <td>2024</td>\n",
              "      <td>1000</td>\n",
              "      <td>600.0</td>\n",
              "    </tr>\n",
              "    <tr>\n",
              "      <th>4</th>\n",
              "      <td>C</td>\n",
              "      <td>2023</td>\n",
              "      <td>700</td>\n",
              "      <td>NaN</td>\n",
              "    </tr>\n",
              "    <tr>\n",
              "      <th>5</th>\n",
              "      <td>C</td>\n",
              "      <td>2024</td>\n",
              "      <td>1200</td>\n",
              "      <td>700.0</td>\n",
              "    </tr>\n",
              "    <tr>\n",
              "      <th>6</th>\n",
              "      <td>D</td>\n",
              "      <td>2023</td>\n",
              "      <td>20000</td>\n",
              "      <td>NaN</td>\n",
              "    </tr>\n",
              "    <tr>\n",
              "      <th>7</th>\n",
              "      <td>D</td>\n",
              "      <td>2024</td>\n",
              "      <td>150</td>\n",
              "      <td>20000.0</td>\n",
              "    </tr>\n",
              "    <tr>\n",
              "      <th>8</th>\n",
              "      <td>E</td>\n",
              "      <td>2023</td>\n",
              "      <td>800</td>\n",
              "      <td>NaN</td>\n",
              "    </tr>\n",
              "    <tr>\n",
              "      <th>9</th>\n",
              "      <td>E</td>\n",
              "      <td>2024</td>\n",
              "      <td>200</td>\n",
              "      <td>800.0</td>\n",
              "    </tr>\n",
              "  </tbody>\n",
              "</table>\n",
              "</div>"
            ],
            "text/plain": [
              "  brand  year  sales_unit  prev_sales\n",
              "0     A  2023         500         NaN\n",
              "1     A  2024         900       500.0\n",
              "2     B  2023         600         NaN\n",
              "3     B  2024        1000       600.0\n",
              "4     C  2023         700         NaN\n",
              "5     C  2024        1200       700.0\n",
              "6     D  2023       20000         NaN\n",
              "7     D  2024         150     20000.0\n",
              "8     E  2023         800         NaN\n",
              "9     E  2024         200       800.0"
            ]
          },
          "execution_count": 218,
          "metadata": {},
          "output_type": "execute_result"
        }
      ],
      "source": [
        "df1['prev_sales'] = df1.groupby('brand')['sales_unit'].shift(1)\n",
        "df1"
      ]
    },
    {
      "cell_type": "code",
      "execution_count": null,
      "id": "561d7cf2-38b0-45f5-bb13-a36ce10e3b6a",
      "metadata": {
        "id": "561d7cf2-38b0-45f5-bb13-a36ce10e3b6a",
        "outputId": "99da76a9-c44d-4bd5-ad94-d29041ed69d6"
      },
      "outputs": [
        {
          "name": "stderr",
          "output_type": "stream",
          "text": [
            "C:\\Users\\Haseeba Syed\\AppData\\Local\\Temp\\ipykernel_6908\\427493810.py:2: SettingWithCopyWarning: \n",
            "A value is trying to be set on a copy of a slice from a DataFrame.\n",
            "Try using .loc[row_indexer,col_indexer] = value instead\n",
            "\n",
            "See the caveats in the documentation: https://pandas.pydata.org/pandas-docs/stable/user_guide/indexing.html#returning-a-view-versus-a-copy\n",
            "  df1['yoy']=(df1['sales_unit']-df1['prev_sales'])*100/df1['prev_sales']\n"
          ]
        },
        {
          "data": {
            "text/html": [
              "<div>\n",
              "<style scoped>\n",
              "    .dataframe tbody tr th:only-of-type {\n",
              "        vertical-align: middle;\n",
              "    }\n",
              "\n",
              "    .dataframe tbody tr th {\n",
              "        vertical-align: top;\n",
              "    }\n",
              "\n",
              "    .dataframe thead th {\n",
              "        text-align: right;\n",
              "    }\n",
              "</style>\n",
              "<table border=\"1\" class=\"dataframe\">\n",
              "  <thead>\n",
              "    <tr style=\"text-align: right;\">\n",
              "      <th></th>\n",
              "      <th>brand</th>\n",
              "      <th>year</th>\n",
              "      <th>sales_unit</th>\n",
              "      <th>prev_sales</th>\n",
              "      <th>yoy</th>\n",
              "    </tr>\n",
              "  </thead>\n",
              "  <tbody>\n",
              "    <tr>\n",
              "      <th>1</th>\n",
              "      <td>A</td>\n",
              "      <td>2024</td>\n",
              "      <td>900</td>\n",
              "      <td>500.0</td>\n",
              "      <td>80.000000</td>\n",
              "    </tr>\n",
              "    <tr>\n",
              "      <th>3</th>\n",
              "      <td>B</td>\n",
              "      <td>2024</td>\n",
              "      <td>1000</td>\n",
              "      <td>600.0</td>\n",
              "      <td>66.666667</td>\n",
              "    </tr>\n",
              "    <tr>\n",
              "      <th>5</th>\n",
              "      <td>C</td>\n",
              "      <td>2024</td>\n",
              "      <td>1200</td>\n",
              "      <td>700.0</td>\n",
              "      <td>71.428571</td>\n",
              "    </tr>\n",
              "    <tr>\n",
              "      <th>7</th>\n",
              "      <td>D</td>\n",
              "      <td>2024</td>\n",
              "      <td>150</td>\n",
              "      <td>20000.0</td>\n",
              "      <td>-99.250000</td>\n",
              "    </tr>\n",
              "    <tr>\n",
              "      <th>9</th>\n",
              "      <td>E</td>\n",
              "      <td>2024</td>\n",
              "      <td>200</td>\n",
              "      <td>800.0</td>\n",
              "      <td>-75.000000</td>\n",
              "    </tr>\n",
              "  </tbody>\n",
              "</table>\n",
              "</div>"
            ],
            "text/plain": [
              "  brand  year  sales_unit  prev_sales        yoy\n",
              "1     A  2024         900       500.0  80.000000\n",
              "3     B  2024        1000       600.0  66.666667\n",
              "5     C  2024        1200       700.0  71.428571\n",
              "7     D  2024         150     20000.0 -99.250000\n",
              "9     E  2024         200       800.0 -75.000000"
            ]
          },
          "execution_count": 219,
          "metadata": {},
          "output_type": "execute_result"
        }
      ],
      "source": [
        "df1= df1.dropna()\n",
        "df1['yoy']=(df1['sales_unit']-df1['prev_sales'])*100/df1['prev_sales']\n",
        "df1"
      ]
    },
    {
      "cell_type": "code",
      "execution_count": null,
      "id": "6b6ef0a7-91ac-4e5d-ae4c-9db10e78ded1",
      "metadata": {
        "id": "6b6ef0a7-91ac-4e5d-ae4c-9db10e78ded1",
        "outputId": "fa17a531-0756-4f86-fb57-fb6b94893536"
      },
      "outputs": [
        {
          "name": "stdout",
          "output_type": "stream",
          "text": [
            "       Column  Missing Values  Percentage\n",
            "0       brand               0         0.0\n",
            "1        year               0         0.0\n",
            "2        week               0         0.0\n",
            "3  sales_unit               0         0.0\n",
            "4   avg_price               0         0.0\n",
            "5     digital               2        20.0\n",
            "6       media               1        10.0\n",
            "7         ooh               1        10.0\n",
            "8          TV               1        10.0\n",
            "9       print               1        10.0\n"
          ]
        }
      ],
      "source": [
        "missing_summary = df.isnull().sum().reset_index()\n",
        "missing_summary.columns = ['Column', 'Missing Values']\n",
        "missing_summary['Percentage'] = (missing_summary['Missing Values'] / len(df)) * 100\n",
        "\n",
        "print(missing_summary)\n",
        "\n"
      ]
    },
    {
      "cell_type": "code",
      "execution_count": null,
      "id": "96032f8b-51c0-4007-8669-56af5f9be004",
      "metadata": {
        "id": "96032f8b-51c0-4007-8669-56af5f9be004",
        "outputId": "3c75caa2-973f-404d-bb7d-27466dd8c957"
      },
      "outputs": [
        {
          "name": "stdout",
          "output_type": "stream",
          "text": [
            "  brand  year  week  sales_unit  avg_price  digital  media    ooh      TV  \\\n",
            "0     A  2023     1         500         10   2000.0  500.0  100.0  5000.0   \n",
            "1     B  2023     2         600         12   2500.0  700.0  200.0  6000.0   \n",
            "2     C  2023     3         700         11      NaN  600.0  300.0  7000.0   \n",
            "3     D  2023     4       20000          9   3000.0  800.0  400.0  8000.0   \n",
            "4     E  2023     5         800         50   3500.0    NaN  500.0  9000.0   \n",
            "\n",
            "   print  \n",
            "0   50.0  \n",
            "1   60.0  \n",
            "2   70.0  \n",
            "3   80.0  \n",
            "4   90.0  \n"
          ]
        }
      ],
      "source": [
        "# Calculate threshold (50% of total rows)\n",
        "threshold = len(df) * 0.5\n",
        "\n",
        "df_cleaned = df.dropna(axis=1, thresh=threshold)\n",
        "\n",
        "print(df_cleaned.head())\n",
        "\n",
        "\n"
      ]
    },
    {
      "cell_type": "code",
      "execution_count": null,
      "id": "ebc46a59-72ae-46d6-8d08-b4e2aa311892",
      "metadata": {
        "id": "ebc46a59-72ae-46d6-8d08-b4e2aa311892",
        "outputId": "6b06d4ae-0581-4861-e354-c478a75b9868"
      },
      "outputs": [
        {
          "data": {
            "text/html": [
              "<div>\n",
              "<style scoped>\n",
              "    .dataframe tbody tr th:only-of-type {\n",
              "        vertical-align: middle;\n",
              "    }\n",
              "\n",
              "    .dataframe tbody tr th {\n",
              "        vertical-align: top;\n",
              "    }\n",
              "\n",
              "    .dataframe thead th {\n",
              "        text-align: right;\n",
              "    }\n",
              "</style>\n",
              "<table border=\"1\" class=\"dataframe\">\n",
              "  <thead>\n",
              "    <tr style=\"text-align: right;\">\n",
              "      <th></th>\n",
              "      <th>brand</th>\n",
              "      <th>year</th>\n",
              "      <th>week</th>\n",
              "      <th>sales_unit</th>\n",
              "      <th>avg_price</th>\n",
              "      <th>digital</th>\n",
              "      <th>media</th>\n",
              "      <th>ooh</th>\n",
              "      <th>TV</th>\n",
              "      <th>print</th>\n",
              "    </tr>\n",
              "  </thead>\n",
              "  <tbody>\n",
              "    <tr>\n",
              "      <th>0</th>\n",
              "      <td>A</td>\n",
              "      <td>2023</td>\n",
              "      <td>1</td>\n",
              "      <td>500</td>\n",
              "      <td>10</td>\n",
              "      <td>2000.0</td>\n",
              "      <td>500.0</td>\n",
              "      <td>100.0</td>\n",
              "      <td>5000.0</td>\n",
              "      <td>50.0</td>\n",
              "    </tr>\n",
              "    <tr>\n",
              "      <th>1</th>\n",
              "      <td>B</td>\n",
              "      <td>2023</td>\n",
              "      <td>2</td>\n",
              "      <td>600</td>\n",
              "      <td>12</td>\n",
              "      <td>2500.0</td>\n",
              "      <td>700.0</td>\n",
              "      <td>200.0</td>\n",
              "      <td>6000.0</td>\n",
              "      <td>60.0</td>\n",
              "    </tr>\n",
              "    <tr>\n",
              "      <th>2</th>\n",
              "      <td>C</td>\n",
              "      <td>2023</td>\n",
              "      <td>3</td>\n",
              "      <td>700</td>\n",
              "      <td>11</td>\n",
              "      <td>NaN</td>\n",
              "      <td>600.0</td>\n",
              "      <td>300.0</td>\n",
              "      <td>7000.0</td>\n",
              "      <td>70.0</td>\n",
              "    </tr>\n",
              "    <tr>\n",
              "      <th>3</th>\n",
              "      <td>D</td>\n",
              "      <td>2023</td>\n",
              "      <td>4</td>\n",
              "      <td>20000</td>\n",
              "      <td>9</td>\n",
              "      <td>3000.0</td>\n",
              "      <td>800.0</td>\n",
              "      <td>400.0</td>\n",
              "      <td>8000.0</td>\n",
              "      <td>80.0</td>\n",
              "    </tr>\n",
              "    <tr>\n",
              "      <th>4</th>\n",
              "      <td>E</td>\n",
              "      <td>2023</td>\n",
              "      <td>5</td>\n",
              "      <td>800</td>\n",
              "      <td>50</td>\n",
              "      <td>3500.0</td>\n",
              "      <td>NaN</td>\n",
              "      <td>500.0</td>\n",
              "      <td>9000.0</td>\n",
              "      <td>90.0</td>\n",
              "    </tr>\n",
              "    <tr>\n",
              "      <th>5</th>\n",
              "      <td>A</td>\n",
              "      <td>2024</td>\n",
              "      <td>6</td>\n",
              "      <td>900</td>\n",
              "      <td>10</td>\n",
              "      <td>4000.0</td>\n",
              "      <td>900.0</td>\n",
              "      <td>600.0</td>\n",
              "      <td>10000.0</td>\n",
              "      <td>100.0</td>\n",
              "    </tr>\n",
              "    <tr>\n",
              "      <th>6</th>\n",
              "      <td>B</td>\n",
              "      <td>2024</td>\n",
              "      <td>7</td>\n",
              "      <td>1000</td>\n",
              "      <td>11</td>\n",
              "      <td>4500.0</td>\n",
              "      <td>1000.0</td>\n",
              "      <td>NaN</td>\n",
              "      <td>NaN</td>\n",
              "      <td>110.0</td>\n",
              "    </tr>\n",
              "    <tr>\n",
              "      <th>7</th>\n",
              "      <td>C</td>\n",
              "      <td>2024</td>\n",
              "      <td>8</td>\n",
              "      <td>1200</td>\n",
              "      <td>12</td>\n",
              "      <td>NaN</td>\n",
              "      <td>1100.0</td>\n",
              "      <td>800.0</td>\n",
              "      <td>12000.0</td>\n",
              "      <td>120.0</td>\n",
              "    </tr>\n",
              "    <tr>\n",
              "      <th>8</th>\n",
              "      <td>D</td>\n",
              "      <td>2024</td>\n",
              "      <td>9</td>\n",
              "      <td>150</td>\n",
              "      <td>1000</td>\n",
              "      <td>5000.0</td>\n",
              "      <td>1200.0</td>\n",
              "      <td>900.0</td>\n",
              "      <td>13000.0</td>\n",
              "      <td>NaN</td>\n",
              "    </tr>\n",
              "    <tr>\n",
              "      <th>9</th>\n",
              "      <td>E</td>\n",
              "      <td>2024</td>\n",
              "      <td>10</td>\n",
              "      <td>200</td>\n",
              "      <td>9</td>\n",
              "      <td>5500.0</td>\n",
              "      <td>1300.0</td>\n",
              "      <td>1000.0</td>\n",
              "      <td>14000.0</td>\n",
              "      <td>140.0</td>\n",
              "    </tr>\n",
              "  </tbody>\n",
              "</table>\n",
              "</div>"
            ],
            "text/plain": [
              "  brand  year  week  sales_unit  avg_price  digital   media     ooh       TV  \\\n",
              "0     A  2023     1         500         10   2000.0   500.0   100.0   5000.0   \n",
              "1     B  2023     2         600         12   2500.0   700.0   200.0   6000.0   \n",
              "2     C  2023     3         700         11      NaN   600.0   300.0   7000.0   \n",
              "3     D  2023     4       20000          9   3000.0   800.0   400.0   8000.0   \n",
              "4     E  2023     5         800         50   3500.0     NaN   500.0   9000.0   \n",
              "5     A  2024     6         900         10   4000.0   900.0   600.0  10000.0   \n",
              "6     B  2024     7        1000         11   4500.0  1000.0     NaN      NaN   \n",
              "7     C  2024     8        1200         12      NaN  1100.0   800.0  12000.0   \n",
              "8     D  2024     9         150       1000   5000.0  1200.0   900.0  13000.0   \n",
              "9     E  2024    10         200          9   5500.0  1300.0  1000.0  14000.0   \n",
              "\n",
              "   print  \n",
              "0   50.0  \n",
              "1   60.0  \n",
              "2   70.0  \n",
              "3   80.0  \n",
              "4   90.0  \n",
              "5  100.0  \n",
              "6  110.0  \n",
              "7  120.0  \n",
              "8    NaN  \n",
              "9  140.0  "
            ]
          },
          "execution_count": 239,
          "metadata": {},
          "output_type": "execute_result"
        }
      ],
      "source": [
        "df"
      ]
    },
    {
      "cell_type": "code",
      "execution_count": null,
      "id": "30c93c97-0f47-402f-9f8c-1953fd63b9d0",
      "metadata": {
        "id": "30c93c97-0f47-402f-9f8c-1953fd63b9d0",
        "outputId": "21326259-9de8-4fe1-ff7f-8844de65af75"
      },
      "outputs": [
        {
          "data": {
            "text/html": [
              "<div>\n",
              "<style scoped>\n",
              "    .dataframe tbody tr th:only-of-type {\n",
              "        vertical-align: middle;\n",
              "    }\n",
              "\n",
              "    .dataframe tbody tr th {\n",
              "        vertical-align: top;\n",
              "    }\n",
              "\n",
              "    .dataframe thead th {\n",
              "        text-align: right;\n",
              "    }\n",
              "</style>\n",
              "<table border=\"1\" class=\"dataframe\">\n",
              "  <thead>\n",
              "    <tr style=\"text-align: right;\">\n",
              "      <th></th>\n",
              "      <th>brand</th>\n",
              "      <th>year</th>\n",
              "      <th>week</th>\n",
              "      <th>sales_unit</th>\n",
              "      <th>avg_price</th>\n",
              "      <th>digital</th>\n",
              "      <th>media</th>\n",
              "      <th>ooh</th>\n",
              "      <th>TV</th>\n",
              "      <th>print</th>\n",
              "    </tr>\n",
              "  </thead>\n",
              "  <tbody>\n",
              "    <tr>\n",
              "      <th>0</th>\n",
              "      <td>A</td>\n",
              "      <td>2023</td>\n",
              "      <td>1</td>\n",
              "      <td>500</td>\n",
              "      <td>10</td>\n",
              "      <td>2000.0</td>\n",
              "      <td>500.0</td>\n",
              "      <td>100.0</td>\n",
              "      <td>5000.0</td>\n",
              "      <td>50.0</td>\n",
              "    </tr>\n",
              "    <tr>\n",
              "      <th>1</th>\n",
              "      <td>B</td>\n",
              "      <td>2023</td>\n",
              "      <td>2</td>\n",
              "      <td>600</td>\n",
              "      <td>12</td>\n",
              "      <td>2500.0</td>\n",
              "      <td>700.0</td>\n",
              "      <td>200.0</td>\n",
              "      <td>6000.0</td>\n",
              "      <td>60.0</td>\n",
              "    </tr>\n",
              "    <tr>\n",
              "      <th>2</th>\n",
              "      <td>C</td>\n",
              "      <td>2023</td>\n",
              "      <td>3</td>\n",
              "      <td>700</td>\n",
              "      <td>11</td>\n",
              "      <td>NaN</td>\n",
              "      <td>600.0</td>\n",
              "      <td>300.0</td>\n",
              "      <td>7000.0</td>\n",
              "      <td>70.0</td>\n",
              "    </tr>\n",
              "    <tr>\n",
              "      <th>3</th>\n",
              "      <td>D</td>\n",
              "      <td>2023</td>\n",
              "      <td>4</td>\n",
              "      <td>20000</td>\n",
              "      <td>9</td>\n",
              "      <td>3000.0</td>\n",
              "      <td>800.0</td>\n",
              "      <td>400.0</td>\n",
              "      <td>8000.0</td>\n",
              "      <td>80.0</td>\n",
              "    </tr>\n",
              "    <tr>\n",
              "      <th>4</th>\n",
              "      <td>E</td>\n",
              "      <td>2023</td>\n",
              "      <td>5</td>\n",
              "      <td>800</td>\n",
              "      <td>50</td>\n",
              "      <td>3500.0</td>\n",
              "      <td>NaN</td>\n",
              "      <td>500.0</td>\n",
              "      <td>9000.0</td>\n",
              "      <td>90.0</td>\n",
              "    </tr>\n",
              "    <tr>\n",
              "      <th>5</th>\n",
              "      <td>A</td>\n",
              "      <td>2024</td>\n",
              "      <td>6</td>\n",
              "      <td>900</td>\n",
              "      <td>10</td>\n",
              "      <td>4000.0</td>\n",
              "      <td>900.0</td>\n",
              "      <td>600.0</td>\n",
              "      <td>10000.0</td>\n",
              "      <td>100.0</td>\n",
              "    </tr>\n",
              "    <tr>\n",
              "      <th>6</th>\n",
              "      <td>B</td>\n",
              "      <td>2024</td>\n",
              "      <td>7</td>\n",
              "      <td>1000</td>\n",
              "      <td>11</td>\n",
              "      <td>4500.0</td>\n",
              "      <td>1000.0</td>\n",
              "      <td>NaN</td>\n",
              "      <td>NaN</td>\n",
              "      <td>110.0</td>\n",
              "    </tr>\n",
              "    <tr>\n",
              "      <th>7</th>\n",
              "      <td>C</td>\n",
              "      <td>2024</td>\n",
              "      <td>8</td>\n",
              "      <td>1200</td>\n",
              "      <td>12</td>\n",
              "      <td>NaN</td>\n",
              "      <td>1100.0</td>\n",
              "      <td>800.0</td>\n",
              "      <td>12000.0</td>\n",
              "      <td>120.0</td>\n",
              "    </tr>\n",
              "    <tr>\n",
              "      <th>8</th>\n",
              "      <td>D</td>\n",
              "      <td>2024</td>\n",
              "      <td>9</td>\n",
              "      <td>150</td>\n",
              "      <td>1000</td>\n",
              "      <td>5000.0</td>\n",
              "      <td>1200.0</td>\n",
              "      <td>900.0</td>\n",
              "      <td>13000.0</td>\n",
              "      <td>NaN</td>\n",
              "    </tr>\n",
              "    <tr>\n",
              "      <th>9</th>\n",
              "      <td>E</td>\n",
              "      <td>2024</td>\n",
              "      <td>10</td>\n",
              "      <td>200</td>\n",
              "      <td>9</td>\n",
              "      <td>5500.0</td>\n",
              "      <td>1300.0</td>\n",
              "      <td>1000.0</td>\n",
              "      <td>14000.0</td>\n",
              "      <td>140.0</td>\n",
              "    </tr>\n",
              "  </tbody>\n",
              "</table>\n",
              "</div>"
            ],
            "text/plain": [
              "  brand  year  week  sales_unit  avg_price  digital   media     ooh       TV  \\\n",
              "0     A  2023     1         500         10   2000.0   500.0   100.0   5000.0   \n",
              "1     B  2023     2         600         12   2500.0   700.0   200.0   6000.0   \n",
              "2     C  2023     3         700         11      NaN   600.0   300.0   7000.0   \n",
              "3     D  2023     4       20000          9   3000.0   800.0   400.0   8000.0   \n",
              "4     E  2023     5         800         50   3500.0     NaN   500.0   9000.0   \n",
              "5     A  2024     6         900         10   4000.0   900.0   600.0  10000.0   \n",
              "6     B  2024     7        1000         11   4500.0  1000.0     NaN      NaN   \n",
              "7     C  2024     8        1200         12      NaN  1100.0   800.0  12000.0   \n",
              "8     D  2024     9         150       1000   5000.0  1200.0   900.0  13000.0   \n",
              "9     E  2024    10         200          9   5500.0  1300.0  1000.0  14000.0   \n",
              "\n",
              "   print  \n",
              "0   50.0  \n",
              "1   60.0  \n",
              "2   70.0  \n",
              "3   80.0  \n",
              "4   90.0  \n",
              "5  100.0  \n",
              "6  110.0  \n",
              "7  120.0  \n",
              "8    NaN  \n",
              "9  140.0  "
            ]
          },
          "execution_count": 236,
          "metadata": {},
          "output_type": "execute_result"
        }
      ],
      "source": [
        "cols_to_drop = df.columns[df.isnull().mean() >0.5]\n",
        "df_cl= df.drop(columns =cols_to_drop)\n",
        "df_cl\n",
        "df\n"
      ]
    },
    {
      "cell_type": "markdown",
      "id": "9e09d477-cb69-430e-8d06-e2dd708af362",
      "metadata": {
        "id": "9e09d477-cb69-430e-8d06-e2dd708af362"
      },
      "source": [
        "### product of lists"
      ]
    },
    {
      "cell_type": "code",
      "execution_count": null,
      "id": "c111bfbb-81c0-4087-92ba-0241ebe7ccde",
      "metadata": {
        "id": "c111bfbb-81c0-4087-92ba-0241ebe7ccde",
        "outputId": "bb781b08-9c34-4a9f-971d-76f2289f380e"
      },
      "outputs": [
        {
          "data": {
            "text/plain": [
              "[180, 90, 60, 36, 30]"
            ]
          },
          "execution_count": 278,
          "metadata": {},
          "output_type": "execute_result"
        }
      ],
      "source": [
        "l1 =[1,2,3,5,6]\n",
        "out = l1[0]\n",
        "for i in l1:\n",
        "    out=out*i\n",
        "out\n",
        "\n",
        "l2=[]\n",
        "for i in range(len(l1)):\n",
        "    product =1\n",
        "    for  j in range(len(l1)):\n",
        "        if i!=j:\n",
        "            product *= l1[j]\n",
        "    l2.append(product)\n",
        "\n",
        "l2"
      ]
    }
  ],
  "metadata": {
    "kernelspec": {
      "display_name": "Python 3 (ipykernel)",
      "language": "python",
      "name": "python3"
    },
    "language_info": {
      "codemirror_mode": {
        "name": "ipython",
        "version": 3
      },
      "file_extension": ".py",
      "mimetype": "text/x-python",
      "name": "python",
      "nbconvert_exporter": "python",
      "pygments_lexer": "ipython3",
      "version": "3.13.2"
    },
    "colab": {
      "provenance": [],
      "include_colab_link": true
    }
  },
  "nbformat": 4,
  "nbformat_minor": 5
}